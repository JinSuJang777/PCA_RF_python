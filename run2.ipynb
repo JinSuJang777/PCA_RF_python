{
 "cells": [
  {
   "cell_type": "code",
   "execution_count": 21,
   "metadata": {},
   "outputs": [
    {
     "name": "stdout",
     "output_type": "stream",
     "text": [
      "Requirement already satisfied: numpy in c:\\users\\supre\\anaconda3\\lib\\site-packages (1.16.5)\n",
      "Requirement already satisfied: matplotlib in c:\\users\\supre\\anaconda3\\lib\\site-packages (3.1.2)\n",
      "Requirement already satisfied: cycler>=0.10 in c:\\users\\supre\\anaconda3\\lib\\site-packages (from matplotlib) (0.10.0)\n",
      "Requirement already satisfied: numpy>=1.11 in c:\\users\\supre\\anaconda3\\lib\\site-packages (from matplotlib) (1.16.5)\n",
      "Requirement already satisfied: pyparsing!=2.0.4,!=2.1.2,!=2.1.6,>=2.0.1 in c:\\users\\supre\\anaconda3\\lib\\site-packages (from matplotlib) (2.4.2)\n",
      "Requirement already satisfied: kiwisolver>=1.0.1 in c:\\users\\supre\\anaconda3\\lib\\site-packages (from matplotlib) (1.1.0)\n",
      "Requirement already satisfied: python-dateutil>=2.1 in c:\\users\\supre\\anaconda3\\lib\\site-packages (from matplotlib) (2.8.0)\n",
      "Requirement already satisfied: six in c:\\users\\supre\\anaconda3\\lib\\site-packages (from cycler>=0.10->matplotlib) (1.12.0)\n",
      "Requirement already satisfied: setuptools in c:\\users\\supre\\anaconda3\\lib\\site-packages (from kiwisolver>=1.0.1->matplotlib) (41.4.0)\n",
      "Requirement already satisfied: scikit-learn in c:\\users\\supre\\anaconda3\\lib\\site-packages (0.22.2.post1)\n",
      "Requirement already satisfied: scipy>=0.17.0 in c:\\users\\supre\\anaconda3\\lib\\site-packages (from scikit-learn) (1.4.1)\n",
      "Requirement already satisfied: numpy>=1.11.0 in c:\\users\\supre\\anaconda3\\lib\\site-packages (from scikit-learn) (1.16.5)\n",
      "Requirement already satisfied: joblib>=0.11 in c:\\users\\supre\\anaconda3\\lib\\site-packages (from scikit-learn) (0.13.2)\n"
     ]
    }
   ],
   "source": [
    "!pip install numpy\n",
    "!pip install --user matplotlib\n",
    "!pip install --user scikit-learn"
   ]
  },
  {
   "cell_type": "code",
   "execution_count": 22,
   "metadata": {},
   "outputs": [],
   "source": [
    "import random\n",
    "import numpy as np\n",
    "from matplotlib import pyplot as plt\n",
    "from sklearn.decomposition import PCA\n",
    "\n",
    "\n",
    "\n",
    "def data_production(class_number,Nd) :\n",
    "    import numpy as np\n",
    "    import random\n",
    "    from matplotlib import pyplot as plt\n",
    "\n",
    "    r1 = [[40,60],[30,70],[20,80]] #input number is 3\n",
    "    r2 = [[40,60],[34,66],[27,73],[20,80]] #input number is 4\n",
    "    r3 = [[40,60],[35,65],[30,70],[25,75],[20,80]] #input number is 5\n",
    "    r4 = [[40,60]] #input number is 6\n",
    "    r5 = [[30,70]] #input number is 7\n",
    "    r6 = [[20,80]] #input number is 8\n",
    "    r = [r1,r2,r3,r4,r5,r6]\n",
    "    r = r[class_number-3]\n",
    "    group = len(r) \n",
    "    w = []; l = [];\n",
    "    for i in range(0,group):\n",
    "        for j in range(0,Nd):\n",
    "            intra = np.zeros((100,100))\n",
    "            while np.sum(intra.reshape(1,10000)) < random.randrange(25,101) :            \n",
    "                intra[random.randrange(r[i][0],r[i][1]),random.randrange(r[i][0],r[i][1])] = 1\n",
    "            w.append(intra); l.append(i)\n",
    "    w = np.array(w)\n",
    "    X = w.reshape(Nd*group,-1); y = np.array(l)\n",
    "  \n",
    "    return X\n",
    "\n",
    "def show_plot(X,number):\n",
    "    from matplotlib import pyplot as plt\n",
    "    plt.figure(figsize=(4,3))\n",
    "    plt.xlim(0,10000)\n",
    "    plt.ylim(-0.5,1.5)\n",
    "    plt.plot(X[number],'k',linewidth = 0.5)\n",
    "\n",
    "def image_adjust(X,number,cmap,min,max):\n",
    "    plt.figure()\n",
    "    ax = plt.gca()\n",
    "    plt.xlim(min+0.5,max-0.5)\n",
    "    plt.ylim(min+0.5,max-0.5)\n",
    "    plt.imshow(X[number,:].reshape(100,100),cmap=cmap, vmin = -1.0, vmax = 1, interpolation='nearest')\n",
    "    plt.colorbar()"
   ]
  },
  {
   "cell_type": "markdown",
   "metadata": {},
   "source": [
    "# Fig2_a"
   ]
  },
  {
   "cell_type": "code",
   "execution_count": 23,
   "metadata": {
    "scrolled": false
   },
   "outputs": [
    {
     "data": {
      "image/png": "[encoded data removed]",
      "text/plain": [
       "<Figure size 288x216 with 1 Axes>"
      ]
     },
     "metadata": {
      "needs_background": "light"
     },
     "output_type": "display_data"
    }
   ],
   "source": [
    "class_number = 6; R = (class_number-5)*200\n",
    "Nd           = 2000\n",
    "Np           = 50\n",
    "\n",
    "X = data_production(class_number,Nd)\n",
    "pca = PCA(n_components=Np, svd_solver='auto',whiten=True).fit(X)\n",
    "reco = pca.transform(X)\n",
    "reco = pca.inverse_transform(reco)\n",
    "for i in range(0,2000):\n",
    "    if np.sum(X[i])==50:\n",
    "        j=i\n",
    "show_plot(reco,j)\n",
    "#plt.savefig('R%d_Np%d_IR.eps' %(R,Np), dpi=500, Transparent = False)"
   ]
  },
  {
   "cell_type": "markdown",
   "metadata": {},
   "source": [
    "# Fig2_b"
   ]
  },
  {
   "cell_type": "code",
   "execution_count": 24,
   "metadata": {},
   "outputs": [
    {
     "data": {
      "image/png": "[encoded data removed]",
      "text/plain": [
       "<Figure size 288x216 with 1 Axes>"
      ]
     },
     "metadata": {
      "needs_background": "light"
     },
     "output_type": "display_data"
    }
   ],
   "source": [
    "class_number = 6; R = (class_number-5)*200\n",
    "Nd           = 2000\n",
    "Np           = 1250\n",
    "\n",
    "X = data_production(class_number,Nd)\n",
    "pca = PCA(n_components=Np, svd_solver='auto',whiten=True).fit(X)\n",
    "reco = pca.transform(X)\n",
    "reco = pca.inverse_transform(reco)\n",
    "for i in range(0,2000):\n",
    "    if np.sum(X[i])==50:\n",
    "        j=i\n",
    "show_plot(reco,j)\n",
    "#plt.savefig('R%d_Np%d_IR.eps' %(R,Np), dpi=500, Transparent = False)"
   ]
  },
  {
   "cell_type": "markdown",
   "metadata": {},
   "source": [
    "# Fig2_c"
   ]
  },
  {
   "cell_type": "code",
   "execution_count": null,
   "metadata": {},
   "outputs": [],
   "source": [
    "class_number = 8; R = (class_number-5)*200\n",
    "Nd           = 2000\n",
    "Np           = 50\n",
    "\n",
    "X = data_production(class_number,Nd)\n",
    "pca = PCA(n_components=Np, svd_solver='auto',whiten=True).fit(X)\n",
    "reco = pca.transform(X)\n",
    "reco = pca.inverse_transform(reco)\n",
    "for i in range(0,2000):\n",
    "    if np.sum(X[i])==50:\n",
    "        j=i\n",
    "show_plot(reco,j)\n",
    "#plt.savefig('R%d_Np%d_IR.eps' %(R,Np), dpi=500, Transparent = False)"
   ]
  },
  {
   "cell_type": "markdown",
   "metadata": {},
   "source": [
    "# Fig2_d"
   ]
  },
  {
   "cell_type": "code",
   "execution_count": 16,
   "metadata": {},
   "outputs": [
    {
     "data": {
      "image/png": "[encoded data removed]",
      "text/plain": [
       "<Figure size 288x216 with 1 Axes>"
      ]
     },
     "metadata": {
      "needs_background": "light"
     },
     "output_type": "display_data"
    }
   ],
   "source": [
    "class_number = 8; R = (class_number-5)*200\n",
    "Nd           = 2000\n",
    "Np           = 1250\n",
    "\n",
    "X = data_production(class_number,Nd)\n",
    "pca = PCA(n_components=Np, svd_solver='auto',whiten=True).fit(X)\n",
    "reco = pca.transform(X)\n",
    "reco = pca.inverse_transform(reco)\n",
    "for i in range(0,2000):\n",
    "    if np.sum(X[i])==50:\n",
    "        j=i\n",
    "show_plot(reco,j)\n",
    "#plt.savefig('R%d_Np%d_IR.eps' %(R,Np), dpi=500, Transparent = False)"
   ]
  },
  {
   "cell_type": "code",
   "execution_count": null,
   "metadata": {},
   "outputs": [],
   "source": []
  }
 ],
 "metadata": {
  "kernelspec": {
   "display_name": "Python 3",
   "language": "python",
   "name": "python3"
  },
  "language_info": {
   "codemirror_mode": {
    "name": "ipython",
    "version": 3
   },
   "file_extension": ".py",
   "mimetype": "text/x-python",
   "name": "python",
   "nbconvert_exporter": "python",
   "pygments_lexer": "ipython3",
   "version": "3.7.4"
  }
 },
 "nbformat": 4,
 "nbformat_minor": 2
}
