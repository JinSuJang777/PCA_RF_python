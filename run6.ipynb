{
 "cells": [
  {
   "cell_type": "code",
   "execution_count": null,
   "metadata": {},
   "outputs": [],
   "source": [
    "!pip install numpy\n",
    "!pip install --user matplotlib\n",
    "!pip install --user scikit-learn"
   ]
  },
  {
   "cell_type": "code",
   "execution_count": null,
   "metadata": {},
   "outputs": [],
   "source": [
    "import random\n",
    "import numpy as np\n",
    "from matplotlib import pyplot as plt\n",
    "from sklearn.decomposition import PCA\n",
    "from sklearn import tree\n",
    "from sklearn.tree import DecisionTreeClassifier\n",
    "from sklearn.ensemble import RandomForestClassifier\n",
    "from sklearn.metrics import precision_score\n",
    "from sklearn.metrics import accuracy_score\n",
    "\n",
    "\n",
    "def data_production(class_number,Nd) :\n",
    "    import numpy as np\n",
    "    import random\n",
    "    from matplotlib import pyplot as plt\n",
    "    \n",
    "    r1 = [[40,60],[30,70],[20,80]] #input number is 3\n",
    "    r2 = [[40,60],[34,66],[26,74],[20,80]] #input number is 4 [26,74], [27,73]\n",
    "    r3 = [[40,60],[35,65],[30,70],[25,75],[20,80]] #input number is 5\n",
    "    \n",
    "    r = [r1,r2,r3]\n",
    "    r = r[class_number]\n",
    "    group = len(r) \n",
    "    w = []; l = [];\n",
    "    for i in range(0,group):\n",
    "        for j in range(0,Nd):\n",
    "            intra = np.zeros((100,100))\n",
    "            while np.sum(intra.reshape(1,10000)) < random.randrange(25,101) :            \n",
    "                intra[random.randrange(r[i][0],r[i][1]),random.randrange(r[i][0],r[i][1])] = 1\n",
    "            w.append(intra); l.append(i)\n",
    "    w = np.array(w)\n",
    "    X = w.reshape(Nd*group,-1); y = np.array(l)\n",
    "  \n",
    "    return X, y\n",
    "\n",
    "\n",
    "def Decision_surface_DT(class_number,X_train, y_train,X_test, y_test,tree_depth,color):\n",
    "    plt.figure()\n",
    "    plot_step = 0.01\n",
    "    \n",
    "    pca = PCA(n_components=2,svd_solver='full', whiten=True).fit(X_train) \n",
    "    X_test_pca = pca.transform(X_test)\n",
    "    clf = DecisionTreeClassifier(max_depth = tree_depth).fit(X_test_pca,y_test)\n",
    "    xx, yy = np.meshgrid(np.arange(-2, 4, plot_step),np.arange(-2, 4, plot_step))\n",
    "    Z = clf.predict(np.c_[xx.ravel(), yy.ravel()])\n",
    "    Z = Z.reshape(xx.shape)\n",
    "    plt.figure(figsize=(5,5))\n",
    "    plt.xlim(-2,4)\n",
    "    plt.ylim(-2,4)\n",
    "    plt.xlabel('component 1')\n",
    "    plt.ylabel('component 2')\n",
    "    plt.title('DT_tree_depth = %d'%tree_depth)\n",
    "    plt.contourf(xx, yy, Z, color = 'k',linestyles='-',cmap=plt.cm.Paired)\n",
    "    for i, color in zip(range(class_number+3), color):\n",
    "        idx = np.where(y_test == i)\n",
    "        plt.scatter(X_test_pca[idx, 0], X_test_pca[idx, 1], c=color, edgecolor='black')\n",
    "\n",
    "def Decision_surface_RF(class_number,X_train, y_train,X_test, y_test,est_number,tree_depth,color):\n",
    "    plt.figure()\n",
    "    plot_step = 0.01\n",
    "    pca = PCA(n_components=2,svd_solver='full', whiten=True).fit(X_train) \n",
    "    X_test_pca = pca.transform(X_test)\n",
    "    clf = RandomForestClassifier(n_estimators=est_number, max_depth=tree_depth).fit(X_test_pca,y_test)\n",
    "    xx, yy = np.meshgrid(np.arange(-2, 4, plot_step),np.arange(-2, 4, plot_step))\n",
    "    Z = clf.predict(np.c_[xx.ravel(), yy.ravel()])\n",
    "    Z = Z.reshape(xx.shape)\n",
    "    plt.figure(figsize=(5,5))\n",
    "    plt.xlim(-2, 4)\n",
    "    plt.ylim(-2, 4)\n",
    "    plt.xlabel('component 1')\n",
    "    plt.ylabel('component 2')\n",
    "    plt.title('RF_tree_depth = %d, n_esti = %d'%(tree_depth,est_number))\n",
    "    plt.contourf(xx, yy, Z, color = 'k',linestyles='-',cmap=plt.cm.Paired)\n",
    "    for i, color in zip(range(class_number+3), color):\n",
    "        idx = np.where(y_test == i)\n",
    "        plt.scatter(X_test_pca[idx, 0], X_test_pca[idx, 1], c=color, edgecolor='black')\n",
    "        \n",
    "def precision_score_DT(class_number,Nd,Np,tree_depth):\n",
    "    X_train, y_train = data_production(class_number,Nd)\n",
    "    pca = PCA(n_components=Np,svd_solver='full', whiten=True).fit(X_train)\n",
    "    X_train_pca = pca.transform(X_train)\n",
    "    p_list = []\n",
    "    a_list = []\n",
    "    for i in range(0,10):\n",
    "        X_test, y_test = data_production(class_number,int(Nd*0.2))\n",
    "        X_test_pca = pca.transform(X_test)\n",
    "        clf = DecisionTreeClassifier(max_depth=tree_depth).fit(X_train_pca,y_train)\n",
    "        #clf = DecisionTreeClassifier().fit(X_train_pca,y_train)\n",
    "        y_pred = clf.predict(X_test_pca)\n",
    "        p_list.append(precision_score(y_test, y_pred, average='micro'))\n",
    "        a_list.append(accuracy_score(y_test,y_pred))\n",
    "    return np.mean(p_list), np.mean(a_list)\n",
    "\n",
    "def precision_score_RF(class_number,Nd,Np,est_number,tree_depth):\n",
    "    X_train, y_train = data_production(class_number,Nd)\n",
    "    pca = PCA(n_components=Np,svd_solver='full', whiten=True).fit(X_train)\n",
    "    X_train_pca = pca.transform(X_train)\n",
    "    p_list = []\n",
    "    a_list = []\n",
    "    for i in range(0,10):\n",
    "        X_test, y_test = data_production(class_number,int(Nd*0.2))\n",
    "        X_test_pca = pca.transform(X_test)\n",
    "        clf = RandomForestClassifier(n_estimators=est_number,max_depth=tree_depth).fit(X_train_pca,y_train)\n",
    "        #clf = DecisionTreeClassifier().fit(X_train_pca,y_train)\n",
    "        y_pred = clf.predict(X_test_pca)\n",
    "        p_list.append(precision_score(y_test, y_pred, average='micro'))\n",
    "        a_list.append(accuracy_score(y_test,y_pred))\n",
    "    return np.mean(p_list), np.mean(a_list)"
   ]
  },
  {
   "cell_type": "code",
   "execution_count": null,
   "metadata": {},
   "outputs": [],
   "source": [
    "class_number = 2\n",
    "Nd=300\n",
    "X_train, y_train = data_production(class_number,Nd)\n",
    "X_test, y_test = data_production(class_number,Nd)"
   ]
  },
  {
   "cell_type": "markdown",
   "metadata": {},
   "source": [
    "# Fig6_a"
   ]
  },
  {
   "cell_type": "code",
   "execution_count": null,
   "metadata": {},
   "outputs": [],
   "source": [
    "#list of the number of tree_depth, estimator number = 50\n",
    "tree_depth = [1,5,10]\n",
    "#code of plotting decision surface\n",
    "for i in range(0,len(tree_depth)):\n",
    "    Decision_surface_RF(class_number,X_train, y_train,X_test, y_test,50,tree_depth[i],['lightblue', 'lightgreen', 'red','thistle','Sienna'])\n",
    "    plt.savefig('RF_decision_surface_est = %d_5class.eps' %50,dpi=500,Transparent=False)"
   ]
  },
  {
   "cell_type": "markdown",
   "metadata": {},
   "source": [
    "# Fig6_b"
   ]
  },
  {
   "cell_type": "code",
   "execution_count": null,
   "metadata": {},
   "outputs": [],
   "source": [
    "#list of the number of estimation number, tree_depth = 10\n",
    "est_number = [1,40,200]\n",
    "#code of plotting decision surface\n",
    "for i in range(0,len(est_number)):\n",
    "    Decision_surface_RF(class_number,X_train, y_train,X_test, y_test,est_number[i],10,['lightblue', 'lightgreen', 'red','thistle','Sienna'])\n",
    "    plt.savefig('RF_decision_surface_est = %d_5class.eps' %(est_number[i]),dpi=500,Transparent=False)"
   ]
  },
  {
   "cell_type": "markdown",
   "metadata": {},
   "source": [
    "# Precision"
   ]
  },
  {
   "cell_type": "markdown",
   "metadata": {},
   "source": [
    "## Fig. 6a"
   ]
  },
  {
   "cell_type": "code",
   "execution_count": null,
   "metadata": {},
   "outputs": [],
   "source": [
    "#class_number = {[0:R=200,400,600 km], [1:R=200,320,460,600 km], [2:R=200,300,400,500,600 km]}\n",
    "class_number  = 2\n",
    "# Nd, Np are the number of data and principal components, respectively \n",
    "Nd            =  300\n",
    "Np            = 2\n",
    "#list of tree depth and estimation number\n",
    "tree_depth    = [1,5,10]\n",
    "est_number = 100\n",
    "\n",
    "#caculating precision of RF classifier\n",
    "precision = []\n",
    "accuracy = []\n",
    "for i in range(0,len(tree_depth)):\n",
    "    p,a = precision_score_RF(class_number,Nd,2,est_number,tree_depth[i])\n",
    "    accuracy.append(a)\n",
    "    precision.append(p)\n",
    "precision"
   ]
  },
  {
   "cell_type": "markdown",
   "metadata": {},
   "source": [
    "## Fig. 6b"
   ]
  },
  {
   "cell_type": "code",
   "execution_count": null,
   "metadata": {},
   "outputs": [],
   "source": [
    "#class_number = {[0:R=200,400,600 km], [1:R=200,320,460,600 km], [2:R=200,300,400,500,600 km]}\n",
    "class_number  = 2\n",
    "# Nd, Np are the number of data and principal components, respectively \n",
    "Nd            =  300\n",
    "Np            = 2\n",
    "#list of tree depth and estimation number\n",
    "tree_depth    = 10\n",
    "est_number = [1,40,200]\n",
    "\n",
    "#caculating precision of RF classifier\n",
    "precision = []\n",
    "accuracy = []\n",
    "for i in range(0,len(est_number)):\n",
    "    p,a = precision_score_RF(class_number,Nd,2,est_number[i],tree_depth)\n",
    "    accuracy.append(a)\n",
    "\n",
    "    precision.append(p)\n",
    "precision"
   ]
  }
 ],
 "metadata": {
  "kernelspec": {
   "display_name": "Python 3",
   "language": "python",
   "name": "python3"
  },
  "language_info": {
   "codemirror_mode": {
    "name": "ipython",
    "version": 3
   },
   "file_extension": ".py",
   "mimetype": "text/x-python",
   "name": "python",
   "nbconvert_exporter": "python",
   "pygments_lexer": "ipython3",
   "version": "3.7.4"
  }
 },
 "nbformat": 4,
 "nbformat_minor": 2
}
